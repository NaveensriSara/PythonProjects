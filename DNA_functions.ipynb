{
 "cells": [
  {
   "cell_type": "code",
   "execution_count": 1,
   "metadata": {},
   "outputs": [
    {
     "name": "stdout",
     "output_type": "stream",
     "text": [
      " AGCGCGTCACGGCACGGACC\n"
     ]
    }
   ],
   "source": [
    "#Add random sequence based on a specific range\n",
    "import random\n",
    "seq = ' '\n",
    "for _ in range(20):\n",
    "    seq += random.choice ('AGTC')\n",
    "print(seq)\n"
   ]
  },
  {
   "cell_type": "code",
   "execution_count": null,
   "metadata": {},
   "outputs": [],
   "source": [
    "#Find longest common prefix between 2 strings \n",
    "def longestCommonPrefix (seq1,seq2):\n",
    "    i = 0 \n",
    "    while i < len(seq1) and i < len(seq2) and seq1[i] == seq2[i]:\n",
    "        i+= 1\n",
    "    return seq1[:1]\n",
    "\n",
    "longestCommonPrefix('ACCATAGTC','ACCATACTC')\n"
   ]
  },
  {
   "cell_type": "code",
   "execution_count": 4,
   "metadata": {},
   "outputs": [
    {
     "data": {
      "text/plain": [
       "False"
      ]
     },
     "execution_count": 4,
     "metadata": {},
     "output_type": "execute_result"
    }
   ],
   "source": [
    "#A function to  see whether 2 strings match \n",
    "def match(seq1,seq2):\n",
    "    if not len(seq1) == len(seq2):\n",
    "        return False\n",
    "    for i in range(len(seq1)):\n",
    "        if not seq1[i] == seq2[i]:\n",
    "          return False\n",
    "    return True\n",
    "\n",
    "match('ATGTCGA','ATGTGGA') "
   ]
  },
  {
   "cell_type": "code",
   "execution_count": 6,
   "metadata": {},
   "outputs": [
    {
     "data": {
      "text/plain": [
       "'CATGCT'"
      ]
     },
     "execution_count": 6,
     "metadata": {},
     "output_type": "execute_result"
    }
   ],
   "source": [
    "#Find reverse Compliment \n",
    "def reverseComplement(seq):\n",
    "    complement = {'A':'T','C':'G','G':'C','T':'A'}\n",
    "    t= ''\n",
    "    for base in seq:\n",
    "        t= complement[base]+t\n",
    "    return t \n",
    "\n",
    "reverseComplement('AGCATG')"
   ]
  },
  {
   "cell_type": "code",
   "execution_count": null,
   "metadata": {},
   "outputs": [],
   "source": []
  }
 ],
 "metadata": {
  "kernelspec": {
   "display_name": "Python 3",
   "language": "python",
   "name": "python3"
  },
  "language_info": {
   "codemirror_mode": {
    "name": "ipython",
    "version": 3
   },
   "file_extension": ".py",
   "mimetype": "text/x-python",
   "name": "python",
   "nbconvert_exporter": "python",
   "pygments_lexer": "ipython3",
   "version": "3.10.5"
  }
 },
 "nbformat": 4,
 "nbformat_minor": 2
}
